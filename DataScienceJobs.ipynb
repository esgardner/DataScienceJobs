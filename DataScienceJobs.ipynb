{
 "cells": [
  {
   "cell_type": "markdown",
   "metadata": {},
   "source": [
    "## Business Understanding\n",
    "In this notebook, we will use the [Data Scientist jobs dataset](https://www.kaggle.com/andrewmvd/data-scientist-jobs) to answer the following questions about where to look for a job as a data scientist:\n",
    "1. Where are the data science jobs (by city and company)?\n",
    "2. Which cities have the highest salary for data scientists?\n",
    "3. Which sectors offer the most job opportunities for data scientists?\n",
    "4. What is the relationship between Glassdoor rating and salary?"
   ]
  },
  {
   "cell_type": "markdown",
   "metadata": {},
   "source": [
    "## Data Understanding\n",
    "\n",
    "We start by taking a closer look at the dataset. First, we read in the data and import the libraries we need."
   ]
  },
  {
   "cell_type": "code",
   "execution_count": 175,
   "metadata": {
    "scrolled": false
   },
   "outputs": [
    {
     "data": {
      "text/html": [
       "<div>\n",
       "<style scoped>\n",
       "    .dataframe tbody tr th:only-of-type {\n",
       "        vertical-align: middle;\n",
       "    }\n",
       "\n",
       "    .dataframe tbody tr th {\n",
       "        vertical-align: top;\n",
       "    }\n",
       "\n",
       "    .dataframe thead th {\n",
       "        text-align: right;\n",
       "    }\n",
       "</style>\n",
       "<table border=\"1\" class=\"dataframe\">\n",
       "  <thead>\n",
       "    <tr style=\"text-align: right;\">\n",
       "      <th></th>\n",
       "      <th>Unnamed: 0</th>\n",
       "      <th>index</th>\n",
       "      <th>Job Title</th>\n",
       "      <th>Salary Estimate</th>\n",
       "      <th>Job Description</th>\n",
       "      <th>Rating</th>\n",
       "      <th>Company Name</th>\n",
       "      <th>Location</th>\n",
       "      <th>Headquarters</th>\n",
       "      <th>Size</th>\n",
       "      <th>Founded</th>\n",
       "      <th>Type of ownership</th>\n",
       "      <th>Industry</th>\n",
       "      <th>Sector</th>\n",
       "      <th>Revenue</th>\n",
       "      <th>Competitors</th>\n",
       "      <th>Easy Apply</th>\n",
       "    </tr>\n",
       "  </thead>\n",
       "  <tbody>\n",
       "    <tr>\n",
       "      <th>0</th>\n",
       "      <td>0</td>\n",
       "      <td>0</td>\n",
       "      <td>Senior Data Scientist</td>\n",
       "      <td>$111K-$181K (Glassdoor est.)</td>\n",
       "      <td>ABOUT HOPPER\\n\\nAt Hopper, we’re on a mission ...</td>\n",
       "      <td>3.5</td>\n",
       "      <td>Hopper\\n3.5</td>\n",
       "      <td>New York, NY</td>\n",
       "      <td>Montreal, Canada</td>\n",
       "      <td>501 to 1000 employees</td>\n",
       "      <td>2007</td>\n",
       "      <td>Company - Private</td>\n",
       "      <td>Travel Agencies</td>\n",
       "      <td>Travel &amp; Tourism</td>\n",
       "      <td>Unknown / Non-Applicable</td>\n",
       "      <td>-1</td>\n",
       "      <td>-1</td>\n",
       "    </tr>\n",
       "    <tr>\n",
       "      <th>1</th>\n",
       "      <td>1</td>\n",
       "      <td>1</td>\n",
       "      <td>Data Scientist, Product Analytics</td>\n",
       "      <td>$111K-$181K (Glassdoor est.)</td>\n",
       "      <td>At Noom, we use scientifically proven methods ...</td>\n",
       "      <td>4.5</td>\n",
       "      <td>Noom US\\n4.5</td>\n",
       "      <td>New York, NY</td>\n",
       "      <td>New York, NY</td>\n",
       "      <td>1001 to 5000 employees</td>\n",
       "      <td>2008</td>\n",
       "      <td>Company - Private</td>\n",
       "      <td>Health, Beauty, &amp; Fitness</td>\n",
       "      <td>Consumer Services</td>\n",
       "      <td>Unknown / Non-Applicable</td>\n",
       "      <td>-1</td>\n",
       "      <td>-1</td>\n",
       "    </tr>\n",
       "    <tr>\n",
       "      <th>2</th>\n",
       "      <td>2</td>\n",
       "      <td>2</td>\n",
       "      <td>Data Science Manager</td>\n",
       "      <td>$111K-$181K (Glassdoor est.)</td>\n",
       "      <td>Decode_M\\n\\nhttps://www.decode-m.com/\\n\\nData ...</td>\n",
       "      <td>-1.0</td>\n",
       "      <td>Decode_M</td>\n",
       "      <td>New York, NY</td>\n",
       "      <td>New York, NY</td>\n",
       "      <td>1 to 50 employees</td>\n",
       "      <td>-1</td>\n",
       "      <td>Unknown</td>\n",
       "      <td>-1</td>\n",
       "      <td>-1</td>\n",
       "      <td>Unknown / Non-Applicable</td>\n",
       "      <td>-1</td>\n",
       "      <td>True</td>\n",
       "    </tr>\n",
       "    <tr>\n",
       "      <th>3</th>\n",
       "      <td>3</td>\n",
       "      <td>3</td>\n",
       "      <td>Data Analyst</td>\n",
       "      <td>$111K-$181K (Glassdoor est.)</td>\n",
       "      <td>Sapphire Digital seeks a dynamic and driven mi...</td>\n",
       "      <td>3.4</td>\n",
       "      <td>Sapphire Digital\\n3.4</td>\n",
       "      <td>Lyndhurst, NJ</td>\n",
       "      <td>Lyndhurst, NJ</td>\n",
       "      <td>201 to 500 employees</td>\n",
       "      <td>2019</td>\n",
       "      <td>Company - Private</td>\n",
       "      <td>Internet</td>\n",
       "      <td>Information Technology</td>\n",
       "      <td>Unknown / Non-Applicable</td>\n",
       "      <td>Zocdoc, Healthgrades</td>\n",
       "      <td>-1</td>\n",
       "    </tr>\n",
       "    <tr>\n",
       "      <th>4</th>\n",
       "      <td>4</td>\n",
       "      <td>4</td>\n",
       "      <td>Director, Data Science</td>\n",
       "      <td>$111K-$181K (Glassdoor est.)</td>\n",
       "      <td>Director, Data Science - (200537)\\nDescription...</td>\n",
       "      <td>3.4</td>\n",
       "      <td>United Entertainment Group\\n3.4</td>\n",
       "      <td>New York, NY</td>\n",
       "      <td>New York, NY</td>\n",
       "      <td>51 to 200 employees</td>\n",
       "      <td>2007</td>\n",
       "      <td>Company - Private</td>\n",
       "      <td>Advertising &amp; Marketing</td>\n",
       "      <td>Business Services</td>\n",
       "      <td>Unknown / Non-Applicable</td>\n",
       "      <td>BBDO, Grey Group, Droga5</td>\n",
       "      <td>-1</td>\n",
       "    </tr>\n",
       "  </tbody>\n",
       "</table>\n",
       "</div>"
      ],
      "text/plain": [
       "   Unnamed: 0  index                          Job Title  \\\n",
       "0           0      0              Senior Data Scientist   \n",
       "1           1      1  Data Scientist, Product Analytics   \n",
       "2           2      2               Data Science Manager   \n",
       "3           3      3                       Data Analyst   \n",
       "4           4      4             Director, Data Science   \n",
       "\n",
       "                Salary Estimate  \\\n",
       "0  $111K-$181K (Glassdoor est.)   \n",
       "1  $111K-$181K (Glassdoor est.)   \n",
       "2  $111K-$181K (Glassdoor est.)   \n",
       "3  $111K-$181K (Glassdoor est.)   \n",
       "4  $111K-$181K (Glassdoor est.)   \n",
       "\n",
       "                                     Job Description  Rating  \\\n",
       "0  ABOUT HOPPER\\n\\nAt Hopper, we’re on a mission ...     3.5   \n",
       "1  At Noom, we use scientifically proven methods ...     4.5   \n",
       "2  Decode_M\\n\\nhttps://www.decode-m.com/\\n\\nData ...    -1.0   \n",
       "3  Sapphire Digital seeks a dynamic and driven mi...     3.4   \n",
       "4  Director, Data Science - (200537)\\nDescription...     3.4   \n",
       "\n",
       "                      Company Name       Location      Headquarters  \\\n",
       "0                      Hopper\\n3.5   New York, NY  Montreal, Canada   \n",
       "1                     Noom US\\n4.5   New York, NY      New York, NY   \n",
       "2                         Decode_M   New York, NY      New York, NY   \n",
       "3            Sapphire Digital\\n3.4  Lyndhurst, NJ     Lyndhurst, NJ   \n",
       "4  United Entertainment Group\\n3.4   New York, NY      New York, NY   \n",
       "\n",
       "                     Size  Founded  Type of ownership  \\\n",
       "0   501 to 1000 employees     2007  Company - Private   \n",
       "1  1001 to 5000 employees     2008  Company - Private   \n",
       "2       1 to 50 employees       -1            Unknown   \n",
       "3    201 to 500 employees     2019  Company - Private   \n",
       "4     51 to 200 employees     2007  Company - Private   \n",
       "\n",
       "                    Industry                  Sector  \\\n",
       "0            Travel Agencies        Travel & Tourism   \n",
       "1  Health, Beauty, & Fitness       Consumer Services   \n",
       "2                         -1                      -1   \n",
       "3                   Internet  Information Technology   \n",
       "4    Advertising & Marketing       Business Services   \n",
       "\n",
       "                    Revenue               Competitors Easy Apply  \n",
       "0  Unknown / Non-Applicable                        -1         -1  \n",
       "1  Unknown / Non-Applicable                        -1         -1  \n",
       "2  Unknown / Non-Applicable                        -1       True  \n",
       "3  Unknown / Non-Applicable      Zocdoc, Healthgrades         -1  \n",
       "4  Unknown / Non-Applicable  BBDO, Grey Group, Droga5         -1  "
      ]
     },
     "execution_count": 175,
     "metadata": {},
     "output_type": "execute_result"
    }
   ],
   "source": [
    "import re\n",
    "import seaborn as sns\n",
    "import numpy as np\n",
    "import pandas as pd\n",
    "import matplotlib.pyplot as plt\n",
    "%matplotlib inline\n",
    "\n",
    "df = pd.read_csv('./DataScientist.csv')\n",
    "df.head()"
   ]
  },
  {
   "cell_type": "code",
   "execution_count": 176,
   "metadata": {},
   "outputs": [
    {
     "name": "stdout",
     "output_type": "stream",
     "text": [
      "There are 3909 data points in this dataset.\n"
     ]
    }
   ],
   "source": [
    "print(f'There are {df.shape[0]} data points in this dataset.')"
   ]
  },
  {
   "cell_type": "code",
   "execution_count": 177,
   "metadata": {
    "scrolled": false
   },
   "outputs": [
    {
     "data": {
      "text/html": [
       "<div>\n",
       "<style scoped>\n",
       "    .dataframe tbody tr th:only-of-type {\n",
       "        vertical-align: middle;\n",
       "    }\n",
       "\n",
       "    .dataframe tbody tr th {\n",
       "        vertical-align: top;\n",
       "    }\n",
       "\n",
       "    .dataframe thead th {\n",
       "        text-align: right;\n",
       "    }\n",
       "</style>\n",
       "<table border=\"1\" class=\"dataframe\">\n",
       "  <thead>\n",
       "    <tr style=\"text-align: right;\">\n",
       "      <th></th>\n",
       "      <th>Unnamed: 0</th>\n",
       "      <th>index</th>\n",
       "      <th>Job Title</th>\n",
       "      <th>Salary Estimate</th>\n",
       "      <th>Job Description</th>\n",
       "      <th>Rating</th>\n",
       "      <th>Company Name</th>\n",
       "      <th>Location</th>\n",
       "      <th>Headquarters</th>\n",
       "      <th>Size</th>\n",
       "      <th>Founded</th>\n",
       "      <th>Type of ownership</th>\n",
       "      <th>Industry</th>\n",
       "      <th>Sector</th>\n",
       "      <th>Revenue</th>\n",
       "      <th>Competitors</th>\n",
       "      <th>Easy Apply</th>\n",
       "    </tr>\n",
       "  </thead>\n",
       "  <tbody>\n",
       "    <tr>\n",
       "      <th>count</th>\n",
       "      <td>3909.000000</td>\n",
       "      <td>3909.000000</td>\n",
       "      <td>3909</td>\n",
       "      <td>3909</td>\n",
       "      <td>3909</td>\n",
       "      <td>3909.000000</td>\n",
       "      <td>3909</td>\n",
       "      <td>3909</td>\n",
       "      <td>3909</td>\n",
       "      <td>3909</td>\n",
       "      <td>3909.000000</td>\n",
       "      <td>3909</td>\n",
       "      <td>3909</td>\n",
       "      <td>3909</td>\n",
       "      <td>3909</td>\n",
       "      <td>3909</td>\n",
       "      <td>3909</td>\n",
       "    </tr>\n",
       "    <tr>\n",
       "      <th>unique</th>\n",
       "      <td>NaN</td>\n",
       "      <td>NaN</td>\n",
       "      <td>2079</td>\n",
       "      <td>148</td>\n",
       "      <td>3685</td>\n",
       "      <td>NaN</td>\n",
       "      <td>2075</td>\n",
       "      <td>191</td>\n",
       "      <td>543</td>\n",
       "      <td>9</td>\n",
       "      <td>NaN</td>\n",
       "      <td>15</td>\n",
       "      <td>96</td>\n",
       "      <td>26</td>\n",
       "      <td>14</td>\n",
       "      <td>422</td>\n",
       "      <td>2</td>\n",
       "    </tr>\n",
       "    <tr>\n",
       "      <th>top</th>\n",
       "      <td>NaN</td>\n",
       "      <td>NaN</td>\n",
       "      <td>Data Scientist</td>\n",
       "      <td>$93K-$151K (Glassdoor est.)</td>\n",
       "      <td>The U.S. Department of the Treasury has a dist...</td>\n",
       "      <td>NaN</td>\n",
       "      <td>Apple\\n4.1</td>\n",
       "      <td>Austin, TX</td>\n",
       "      <td>New York, NY</td>\n",
       "      <td>10000+ employees</td>\n",
       "      <td>NaN</td>\n",
       "      <td>Company - Private</td>\n",
       "      <td>-1</td>\n",
       "      <td>Information Technology</td>\n",
       "      <td>Unknown / Non-Applicable</td>\n",
       "      <td>-1</td>\n",
       "      <td>-1</td>\n",
       "    </tr>\n",
       "    <tr>\n",
       "      <th>freq</th>\n",
       "      <td>NaN</td>\n",
       "      <td>NaN</td>\n",
       "      <td>274</td>\n",
       "      <td>62</td>\n",
       "      <td>14</td>\n",
       "      <td>NaN</td>\n",
       "      <td>60</td>\n",
       "      <td>345</td>\n",
       "      <td>297</td>\n",
       "      <td>993</td>\n",
       "      <td>NaN</td>\n",
       "      <td>1933</td>\n",
       "      <td>546</td>\n",
       "      <td>1124</td>\n",
       "      <td>1163</td>\n",
       "      <td>2760</td>\n",
       "      <td>3745</td>\n",
       "    </tr>\n",
       "    <tr>\n",
       "      <th>mean</th>\n",
       "      <td>1954.000000</td>\n",
       "      <td>2167.446662</td>\n",
       "      <td>NaN</td>\n",
       "      <td>NaN</td>\n",
       "      <td>NaN</td>\n",
       "      <td>3.283576</td>\n",
       "      <td>NaN</td>\n",
       "      <td>NaN</td>\n",
       "      <td>NaN</td>\n",
       "      <td>NaN</td>\n",
       "      <td>1479.154771</td>\n",
       "      <td>NaN</td>\n",
       "      <td>NaN</td>\n",
       "      <td>NaN</td>\n",
       "      <td>NaN</td>\n",
       "      <td>NaN</td>\n",
       "      <td>NaN</td>\n",
       "    </tr>\n",
       "    <tr>\n",
       "      <th>std</th>\n",
       "      <td>1128.575429</td>\n",
       "      <td>1247.657849</td>\n",
       "      <td>NaN</td>\n",
       "      <td>NaN</td>\n",
       "      <td>NaN</td>\n",
       "      <td>1.575749</td>\n",
       "      <td>NaN</td>\n",
       "      <td>NaN</td>\n",
       "      <td>NaN</td>\n",
       "      <td>NaN</td>\n",
       "      <td>855.750138</td>\n",
       "      <td>NaN</td>\n",
       "      <td>NaN</td>\n",
       "      <td>NaN</td>\n",
       "      <td>NaN</td>\n",
       "      <td>NaN</td>\n",
       "      <td>NaN</td>\n",
       "    </tr>\n",
       "    <tr>\n",
       "      <th>min</th>\n",
       "      <td>0.000000</td>\n",
       "      <td>0.000000</td>\n",
       "      <td>NaN</td>\n",
       "      <td>NaN</td>\n",
       "      <td>NaN</td>\n",
       "      <td>-1.000000</td>\n",
       "      <td>NaN</td>\n",
       "      <td>NaN</td>\n",
       "      <td>NaN</td>\n",
       "      <td>NaN</td>\n",
       "      <td>-1.000000</td>\n",
       "      <td>NaN</td>\n",
       "      <td>NaN</td>\n",
       "      <td>NaN</td>\n",
       "      <td>NaN</td>\n",
       "      <td>NaN</td>\n",
       "      <td>NaN</td>\n",
       "    </tr>\n",
       "    <tr>\n",
       "      <th>25%</th>\n",
       "      <td>977.000000</td>\n",
       "      <td>1121.000000</td>\n",
       "      <td>NaN</td>\n",
       "      <td>NaN</td>\n",
       "      <td>NaN</td>\n",
       "      <td>3.200000</td>\n",
       "      <td>NaN</td>\n",
       "      <td>NaN</td>\n",
       "      <td>NaN</td>\n",
       "      <td>NaN</td>\n",
       "      <td>1625.000000</td>\n",
       "      <td>NaN</td>\n",
       "      <td>NaN</td>\n",
       "      <td>NaN</td>\n",
       "      <td>NaN</td>\n",
       "      <td>NaN</td>\n",
       "      <td>NaN</td>\n",
       "    </tr>\n",
       "    <tr>\n",
       "      <th>50%</th>\n",
       "      <td>1954.000000</td>\n",
       "      <td>2161.000000</td>\n",
       "      <td>NaN</td>\n",
       "      <td>NaN</td>\n",
       "      <td>NaN</td>\n",
       "      <td>3.700000</td>\n",
       "      <td>NaN</td>\n",
       "      <td>NaN</td>\n",
       "      <td>NaN</td>\n",
       "      <td>NaN</td>\n",
       "      <td>1976.000000</td>\n",
       "      <td>NaN</td>\n",
       "      <td>NaN</td>\n",
       "      <td>NaN</td>\n",
       "      <td>NaN</td>\n",
       "      <td>NaN</td>\n",
       "      <td>NaN</td>\n",
       "    </tr>\n",
       "    <tr>\n",
       "      <th>75%</th>\n",
       "      <td>2931.000000</td>\n",
       "      <td>3249.000000</td>\n",
       "      <td>NaN</td>\n",
       "      <td>NaN</td>\n",
       "      <td>NaN</td>\n",
       "      <td>4.100000</td>\n",
       "      <td>NaN</td>\n",
       "      <td>NaN</td>\n",
       "      <td>NaN</td>\n",
       "      <td>NaN</td>\n",
       "      <td>2002.000000</td>\n",
       "      <td>NaN</td>\n",
       "      <td>NaN</td>\n",
       "      <td>NaN</td>\n",
       "      <td>NaN</td>\n",
       "      <td>NaN</td>\n",
       "      <td>NaN</td>\n",
       "    </tr>\n",
       "    <tr>\n",
       "      <th>max</th>\n",
       "      <td>3908.000000</td>\n",
       "      <td>4379.000000</td>\n",
       "      <td>NaN</td>\n",
       "      <td>NaN</td>\n",
       "      <td>NaN</td>\n",
       "      <td>5.000000</td>\n",
       "      <td>NaN</td>\n",
       "      <td>NaN</td>\n",
       "      <td>NaN</td>\n",
       "      <td>NaN</td>\n",
       "      <td>2020.000000</td>\n",
       "      <td>NaN</td>\n",
       "      <td>NaN</td>\n",
       "      <td>NaN</td>\n",
       "      <td>NaN</td>\n",
       "      <td>NaN</td>\n",
       "      <td>NaN</td>\n",
       "    </tr>\n",
       "  </tbody>\n",
       "</table>\n",
       "</div>"
      ],
      "text/plain": [
       "         Unnamed: 0        index       Job Title              Salary Estimate  \\\n",
       "count   3909.000000  3909.000000            3909                         3909   \n",
       "unique          NaN          NaN            2079                          148   \n",
       "top             NaN          NaN  Data Scientist  $93K-$151K (Glassdoor est.)   \n",
       "freq            NaN          NaN             274                           62   \n",
       "mean    1954.000000  2167.446662             NaN                          NaN   \n",
       "std     1128.575429  1247.657849             NaN                          NaN   \n",
       "min        0.000000     0.000000             NaN                          NaN   \n",
       "25%      977.000000  1121.000000             NaN                          NaN   \n",
       "50%     1954.000000  2161.000000             NaN                          NaN   \n",
       "75%     2931.000000  3249.000000             NaN                          NaN   \n",
       "max     3908.000000  4379.000000             NaN                          NaN   \n",
       "\n",
       "                                          Job Description       Rating  \\\n",
       "count                                                3909  3909.000000   \n",
       "unique                                               3685          NaN   \n",
       "top     The U.S. Department of the Treasury has a dist...          NaN   \n",
       "freq                                                   14          NaN   \n",
       "mean                                                  NaN     3.283576   \n",
       "std                                                   NaN     1.575749   \n",
       "min                                                   NaN    -1.000000   \n",
       "25%                                                   NaN     3.200000   \n",
       "50%                                                   NaN     3.700000   \n",
       "75%                                                   NaN     4.100000   \n",
       "max                                                   NaN     5.000000   \n",
       "\n",
       "       Company Name    Location  Headquarters              Size      Founded  \\\n",
       "count          3909        3909          3909              3909  3909.000000   \n",
       "unique         2075         191           543                 9          NaN   \n",
       "top      Apple\\n4.1  Austin, TX  New York, NY  10000+ employees          NaN   \n",
       "freq             60         345           297               993          NaN   \n",
       "mean            NaN         NaN           NaN               NaN  1479.154771   \n",
       "std             NaN         NaN           NaN               NaN   855.750138   \n",
       "min             NaN         NaN           NaN               NaN    -1.000000   \n",
       "25%             NaN         NaN           NaN               NaN  1625.000000   \n",
       "50%             NaN         NaN           NaN               NaN  1976.000000   \n",
       "75%             NaN         NaN           NaN               NaN  2002.000000   \n",
       "max             NaN         NaN           NaN               NaN  2020.000000   \n",
       "\n",
       "        Type of ownership Industry                  Sector  \\\n",
       "count                3909     3909                    3909   \n",
       "unique                 15       96                      26   \n",
       "top     Company - Private       -1  Information Technology   \n",
       "freq                 1933      546                    1124   \n",
       "mean                  NaN      NaN                     NaN   \n",
       "std                   NaN      NaN                     NaN   \n",
       "min                   NaN      NaN                     NaN   \n",
       "25%                   NaN      NaN                     NaN   \n",
       "50%                   NaN      NaN                     NaN   \n",
       "75%                   NaN      NaN                     NaN   \n",
       "max                   NaN      NaN                     NaN   \n",
       "\n",
       "                         Revenue Competitors Easy Apply  \n",
       "count                       3909        3909       3909  \n",
       "unique                        14         422          2  \n",
       "top     Unknown / Non-Applicable          -1         -1  \n",
       "freq                        1163        2760       3745  \n",
       "mean                         NaN         NaN        NaN  \n",
       "std                          NaN         NaN        NaN  \n",
       "min                          NaN         NaN        NaN  \n",
       "25%                          NaN         NaN        NaN  \n",
       "50%                          NaN         NaN        NaN  \n",
       "75%                          NaN         NaN        NaN  \n",
       "max                          NaN         NaN        NaN  "
      ]
     },
     "execution_count": 177,
     "metadata": {},
     "output_type": "execute_result"
    }
   ],
   "source": [
    "df.describe(include=\"all\")"
   ]
  },
  {
   "cell_type": "markdown",
   "metadata": {},
   "source": [
    "We want to get a sense of the range of job titles captured in this dataset. As we can see below, some of the jobs are for senior roles. We will want to  pay attention to this distinction when we are doing the salary analysis, \n",
    "since more senior roles tend to have higher salaries."
   ]
  },
  {
   "cell_type": "code",
   "execution_count": 178,
   "metadata": {},
   "outputs": [
    {
     "data": {
      "text/plain": [
       "Data Scientist                                                         274\n",
       "Data Engineer                                                          260\n",
       "Data Analyst                                                           246\n",
       "Senior Data Scientist                                                   91\n",
       "Senior Data Analyst                                                     47\n",
       "                                                                      ... \n",
       "Phoenix Data Science Tutor Jobs                                          1\n",
       "Civil Engineer/GIS Data Analyst                                          1\n",
       "Principal Device Modeling Engineer                                       1\n",
       "SQL/SAS Data Analyst                                                     1\n",
       "Patient Safety Physician or Safety Scientist - UK, Europe or the US      1\n",
       "Name: Job Title, Length: 2079, dtype: int64"
      ]
     },
     "execution_count": 178,
     "metadata": {},
     "output_type": "execute_result"
    }
   ],
   "source": [
    "df[\"Job Title\"].value_counts()"
   ]
  },
  {
   "cell_type": "markdown",
   "metadata": {},
   "source": [
    "## Data Preparation\n"
   ]
  },
  {
   "cell_type": "markdown",
   "metadata": {},
   "source": [
    "In this analysis, we are going to look at: \"Company\", \"Rating\", \"Location\", \"Salary\", and \"Revenue\". We also include \"Job Title\" for reference, since companies may have multiple job listings for different job titles.\n",
    "\n",
    "We start by taking the subset of columns we need, then clean up the data, as needed. "
   ]
  },
  {
   "cell_type": "code",
   "execution_count": 179,
   "metadata": {},
   "outputs": [],
   "source": [
    "df = df[[\"Job Title\", \"Salary Estimate\", \"Rating\", \"Company Name\", \"Location\", \"Sector\"]]"
   ]
  },
  {
   "cell_type": "code",
   "execution_count": 180,
   "metadata": {
    "scrolled": true
   },
   "outputs": [
    {
     "data": {
      "text/html": [
       "<div>\n",
       "<style scoped>\n",
       "    .dataframe tbody tr th:only-of-type {\n",
       "        vertical-align: middle;\n",
       "    }\n",
       "\n",
       "    .dataframe tbody tr th {\n",
       "        vertical-align: top;\n",
       "    }\n",
       "\n",
       "    .dataframe thead th {\n",
       "        text-align: right;\n",
       "    }\n",
       "</style>\n",
       "<table border=\"1\" class=\"dataframe\">\n",
       "  <thead>\n",
       "    <tr style=\"text-align: right;\">\n",
       "      <th></th>\n",
       "      <th>Job Title</th>\n",
       "      <th>Salary Estimate</th>\n",
       "      <th>Rating</th>\n",
       "      <th>Company Name</th>\n",
       "      <th>Location</th>\n",
       "      <th>Sector</th>\n",
       "    </tr>\n",
       "  </thead>\n",
       "  <tbody>\n",
       "    <tr>\n",
       "      <th>0</th>\n",
       "      <td>Senior Data Scientist</td>\n",
       "      <td>$111K-$181K (Glassdoor est.)</td>\n",
       "      <td>3.5</td>\n",
       "      <td>Hopper\\n3.5</td>\n",
       "      <td>New York, NY</td>\n",
       "      <td>Travel &amp; Tourism</td>\n",
       "    </tr>\n",
       "    <tr>\n",
       "      <th>1</th>\n",
       "      <td>Data Scientist, Product Analytics</td>\n",
       "      <td>$111K-$181K (Glassdoor est.)</td>\n",
       "      <td>4.5</td>\n",
       "      <td>Noom US\\n4.5</td>\n",
       "      <td>New York, NY</td>\n",
       "      <td>Consumer Services</td>\n",
       "    </tr>\n",
       "    <tr>\n",
       "      <th>2</th>\n",
       "      <td>Data Science Manager</td>\n",
       "      <td>$111K-$181K (Glassdoor est.)</td>\n",
       "      <td>-1.0</td>\n",
       "      <td>Decode_M</td>\n",
       "      <td>New York, NY</td>\n",
       "      <td>-1</td>\n",
       "    </tr>\n",
       "    <tr>\n",
       "      <th>3</th>\n",
       "      <td>Data Analyst</td>\n",
       "      <td>$111K-$181K (Glassdoor est.)</td>\n",
       "      <td>3.4</td>\n",
       "      <td>Sapphire Digital\\n3.4</td>\n",
       "      <td>Lyndhurst, NJ</td>\n",
       "      <td>Information Technology</td>\n",
       "    </tr>\n",
       "    <tr>\n",
       "      <th>4</th>\n",
       "      <td>Director, Data Science</td>\n",
       "      <td>$111K-$181K (Glassdoor est.)</td>\n",
       "      <td>3.4</td>\n",
       "      <td>United Entertainment Group\\n3.4</td>\n",
       "      <td>New York, NY</td>\n",
       "      <td>Business Services</td>\n",
       "    </tr>\n",
       "    <tr>\n",
       "      <th>5</th>\n",
       "      <td>Data Scientist</td>\n",
       "      <td>$111K-$181K (Glassdoor est.)</td>\n",
       "      <td>2.9</td>\n",
       "      <td>IFG Companies\\n2.9</td>\n",
       "      <td>New York, NY</td>\n",
       "      <td>Insurance</td>\n",
       "    </tr>\n",
       "    <tr>\n",
       "      <th>6</th>\n",
       "      <td>Quantitative Researcher</td>\n",
       "      <td>$111K-$181K (Glassdoor est.)</td>\n",
       "      <td>4.4</td>\n",
       "      <td>PDT Partners\\n4.4</td>\n",
       "      <td>New York, NY</td>\n",
       "      <td>Finance</td>\n",
       "    </tr>\n",
       "    <tr>\n",
       "      <th>7</th>\n",
       "      <td>Quantitative Research Associate</td>\n",
       "      <td>$111K-$181K (Glassdoor est.)</td>\n",
       "      <td>-1.0</td>\n",
       "      <td>Enlightenment Research</td>\n",
       "      <td>New York, NY</td>\n",
       "      <td>-1</td>\n",
       "    </tr>\n",
       "    <tr>\n",
       "      <th>8</th>\n",
       "      <td>AI Scientist</td>\n",
       "      <td>$111K-$181K (Glassdoor est.)</td>\n",
       "      <td>5.0</td>\n",
       "      <td>Paige\\n5.0</td>\n",
       "      <td>New York, NY</td>\n",
       "      <td>Information Technology</td>\n",
       "    </tr>\n",
       "    <tr>\n",
       "      <th>9</th>\n",
       "      <td>Quantitative Researcher</td>\n",
       "      <td>$111K-$181K (Glassdoor est.)</td>\n",
       "      <td>4.8</td>\n",
       "      <td>Jane Street\\n4.8</td>\n",
       "      <td>New York, NY</td>\n",
       "      <td>Finance</td>\n",
       "    </tr>\n",
       "  </tbody>\n",
       "</table>\n",
       "</div>"
      ],
      "text/plain": [
       "                           Job Title               Salary Estimate  Rating  \\\n",
       "0              Senior Data Scientist  $111K-$181K (Glassdoor est.)     3.5   \n",
       "1  Data Scientist, Product Analytics  $111K-$181K (Glassdoor est.)     4.5   \n",
       "2               Data Science Manager  $111K-$181K (Glassdoor est.)    -1.0   \n",
       "3                       Data Analyst  $111K-$181K (Glassdoor est.)     3.4   \n",
       "4             Director, Data Science  $111K-$181K (Glassdoor est.)     3.4   \n",
       "5                     Data Scientist  $111K-$181K (Glassdoor est.)     2.9   \n",
       "6            Quantitative Researcher  $111K-$181K (Glassdoor est.)     4.4   \n",
       "7    Quantitative Research Associate  $111K-$181K (Glassdoor est.)    -1.0   \n",
       "8                       AI Scientist  $111K-$181K (Glassdoor est.)     5.0   \n",
       "9            Quantitative Researcher  $111K-$181K (Glassdoor est.)     4.8   \n",
       "\n",
       "                      Company Name       Location                  Sector  \n",
       "0                      Hopper\\n3.5   New York, NY        Travel & Tourism  \n",
       "1                     Noom US\\n4.5   New York, NY       Consumer Services  \n",
       "2                         Decode_M   New York, NY                      -1  \n",
       "3            Sapphire Digital\\n3.4  Lyndhurst, NJ  Information Technology  \n",
       "4  United Entertainment Group\\n3.4   New York, NY       Business Services  \n",
       "5               IFG Companies\\n2.9   New York, NY               Insurance  \n",
       "6                PDT Partners\\n4.4   New York, NY                 Finance  \n",
       "7           Enlightenment Research   New York, NY                      -1  \n",
       "8                       Paige\\n5.0   New York, NY  Information Technology  \n",
       "9                 Jane Street\\n4.8   New York, NY                 Finance  "
      ]
     },
     "execution_count": 180,
     "metadata": {},
     "output_type": "execute_result"
    }
   ],
   "source": [
    "df.head(10)"
   ]
  },
  {
   "cell_type": "markdown",
   "metadata": {},
   "source": [
    "### Cleanup - Company Name"
   ]
  },
  {
   "cell_type": "markdown",
   "metadata": {},
   "source": [
    "In the dataframe above, we can see that the Rating is sometimes getting added to the Company Name column. Let's take\n",
    "care of that in the next cell."
   ]
  },
  {
   "cell_type": "code",
   "execution_count": 181,
   "metadata": {},
   "outputs": [
    {
     "data": {
      "text/plain": [
       "0                        Hopper\n",
       "1                       Noom US\n",
       "2                      Decode_M\n",
       "3              Sapphire Digital\n",
       "4    United Entertainment Group\n",
       "Name: Company Name, dtype: object"
      ]
     },
     "execution_count": 181,
     "metadata": {},
     "output_type": "execute_result"
    }
   ],
   "source": [
    "df['Company Name'] = df[\"Company Name\"].str.partition(\"\\n\")[0]\n",
    "df[\"Company Name\"].head()"
   ]
  },
  {
   "cell_type": "markdown",
   "metadata": {},
   "source": [
    "### Cleanup - Salary Estimate"
   ]
  },
  {
   "cell_type": "code",
   "execution_count": 182,
   "metadata": {
    "scrolled": true
   },
   "outputs": [
    {
     "data": {
      "text/plain": [
       "$93K-$151K (Glassdoor est.)         62\n",
       "$113K-$180K (Glassdoor est.)        61\n",
       "$71K-$122K (Glassdoor est.)         60\n",
       "$111K-$175K (Glassdoor est.)        60\n",
       "$119K-$147K (Glassdoor est.)        44\n",
       "                                    ..\n",
       "$34-$53 Per Hour(Glassdoor est.)     7\n",
       "$99K-$173K (Glassdoor est.)          6\n",
       "$10-$26 Per Hour(Glassdoor est.)     3\n",
       "$146K-$175K (Glassdoor est.)         3\n",
       "$41K-$74K (Glassdoor est.)           1\n",
       "Name: Salary Estimate, Length: 148, dtype: int64"
      ]
     },
     "execution_count": 182,
     "metadata": {},
     "output_type": "execute_result"
    }
   ],
   "source": [
    "df[\"Salary Estimate\"].value_counts()"
   ]
  },
  {
   "cell_type": "markdown",
   "metadata": {},
   "source": [
    "As we can see above, we need to do a lot of clean-up to get the salary data in a workable format. We want this to be a quantitative variable so we can use it to compare salaries across companies and cities. \n",
    "\n",
    "Some salaries are given as yearly salaries and some are given as hourly salaries. We could convert the hourly salaries to yearly salaries, but that might require further knowledge about whether those jobs are full-time or part-time, so we would need more information. For the purposes of this analysis, we will remove the hourly salaries and only consider jobs with yearly salaries provided.\n",
    "\n",
    "Salaries are also given as a range, with lower and upper bounds. For the purpose of this analysis, we will work with the average. "
   ]
  },
  {
   "cell_type": "code",
   "execution_count": 183,
   "metadata": {},
   "outputs": [],
   "source": [
    "def clean_salary(salary):\n",
    "    \"\"\"\n",
    "    Given a salary range, takes the average of the upper and lower bounds\n",
    "\n",
    "        Parameter:\n",
    "                Salary: a string with the salary range in the format 111K−181K\n",
    "\n",
    "        Returns:\n",
    "                returns the average salary, or -1 if an hourly salary was given\n",
    "    \"\"\"\n",
    "    # we don't need to process hourly salaries since we're going to remove these data points\n",
    "    if \"hour\" in salary.lower():\n",
    "        return -1\n",
    "    \n",
    "    # extract numbers from salary\n",
    "    numbers = re.findall(r'\\d+', salary)\n",
    "    # convert to ints\n",
    "    numbers = list(map(int, numbers))\n",
    "    \n",
    "    # TODO- we may not want to multiply this by 1000, and just write \"in thousands\" for the calculations\n",
    "    # return the average salary\n",
    "    return int(sum(numbers) / len(numbers) * 1000)\n",
    "    \n",
    "    \n",
    "# apply function to salary column \n",
    "df[\"Salary Estimate\"] = df[\"Salary Estimate\"].apply(clean_salary)\n",
    "\n",
    "# drop the hourly salaries\n",
    "salary_df = df[df[\"Salary Estimate\"] != -1]"
   ]
  },
  {
   "cell_type": "markdown",
   "metadata": {},
   "source": [
    "### Cleanup - Rating"
   ]
  },
  {
   "cell_type": "markdown",
   "metadata": {},
   "source": [
    "Here are the values for the company ratings:"
   ]
  },
  {
   "cell_type": "code",
   "execution_count": 184,
   "metadata": {},
   "outputs": [
    {
     "data": {
      "text/plain": [
       "-1.0    409\n",
       " 3.9    302\n",
       " 3.7    290\n",
       " 4.1    272\n",
       " 3.6    252\n",
       " 3.8    238\n",
       " 4.0    200\n",
       " 3.4    185\n",
       " 3.5    176\n",
       " 5.0    160\n",
       " 4.2    154\n",
       " 3.3    154\n",
       " 3.2    136\n",
       " 4.3    119\n",
       " 3.1    113\n",
       " 4.5    108\n",
       " 4.4     76\n",
       " 4.6     74\n",
       " 3.0     65\n",
       " 2.9     63\n",
       " 4.7     59\n",
       " 2.8     58\n",
       " 4.9     45\n",
       " 4.8     42\n",
       " 2.5     33\n",
       " 2.7     29\n",
       " 2.6     27\n",
       " 2.4     20\n",
       " 2.3     10\n",
       " 1.0     10\n",
       " 2.2      9\n",
       " 1.6      9\n",
       " 2.0      4\n",
       " 2.1      3\n",
       " 1.9      3\n",
       " 1.5      1\n",
       " 1.7      1\n",
       "Name: Rating, dtype: int64"
      ]
     },
     "execution_count": 184,
     "metadata": {},
     "output_type": "execute_result"
    }
   ],
   "source": [
    "df[\"Rating\"].value_counts()"
   ]
  },
  {
   "cell_type": "markdown",
   "metadata": {},
   "source": [
    "According to [Glassdoor](https://help.glassdoor.com/s/article/Ratings-on-Glassdoor?language=en_US), company ratings are on a scale from 1-5, as follows:\n",
    "- 0.00 - 1.50 Employees are \"Very Dissatisfied\"\n",
    "- 1.51 - 2.50 Employees are \"Dissatisfied\"\n",
    "- 2.51 - 3.50 Employees say it's \"OK\"\n",
    "- 3.51 - 4.00 Employees are \"Satisfied\"\n",
    "- 4.01 - 5.00 Employees are \"Very Satisfied\"\n",
    "\n",
    "\n",
    "It looks like unknown ratings are indicated with -1, so we want to remove the unknown values. We'll remove the missing rating values in a new dataframe to use for the rating analysis, since we want to retain as many data points as possible to answer the other questions."
   ]
  },
  {
   "cell_type": "code",
   "execution_count": 185,
   "metadata": {
    "scrolled": true
   },
   "outputs": [
    {
     "data": {
      "text/plain": [
       "(3483, 6)"
      ]
     },
     "execution_count": 185,
     "metadata": {},
     "output_type": "execute_result"
    }
   ],
   "source": [
    "rating_df = salary_df[salary_df.Rating != -1.0]\n",
    "rating_df.shape"
   ]
  },
  {
   "cell_type": "markdown",
   "metadata": {},
   "source": [
    "### Cleanup - Sectors"
   ]
  },
  {
   "cell_type": "markdown",
   "metadata": {},
   "source": [
    "Here are the sectors in the dataset:"
   ]
  },
  {
   "cell_type": "code",
   "execution_count": 186,
   "metadata": {},
   "outputs": [
    {
     "data": {
      "text/plain": [
       "Information Technology                1124\n",
       "Business Services                      679\n",
       "-1                                     546\n",
       "Biotech & Pharmaceuticals              293\n",
       "Finance                                270\n",
       "Health Care                            197\n",
       "Insurance                              109\n",
       "Education                              101\n",
       "Manufacturing                           87\n",
       "Government                              82\n",
       "Media                                   75\n",
       "Retail                                  72\n",
       "Accounting & Legal                      71\n",
       "Aerospace & Defense                     37\n",
       "Oil, Gas, Energy & Utilities            34\n",
       "Telecommunications                      21\n",
       "Consumer Services                       20\n",
       "Non-Profit                              18\n",
       "Construction, Repair & Maintenance      16\n",
       "Transportation & Logistics              16\n",
       "Real Estate                             12\n",
       "Arts, Entertainment & Recreation        10\n",
       "Restaurants, Bars & Food Services        9\n",
       "Agriculture & Forestry                   5\n",
       "Travel & Tourism                         4\n",
       "Mining & Metals                          1\n",
       "Name: Sector, dtype: int64"
      ]
     },
     "execution_count": 186,
     "metadata": {},
     "output_type": "execute_result"
    }
   ],
   "source": [
    "df[\"Sector\"].value_counts()"
   ]
  },
  {
   "cell_type": "code",
   "execution_count": 187,
   "metadata": {},
   "outputs": [],
   "source": [
    "# drop unknown sector values (indicated by -1)\n",
    "sector_df = df[df.Sector != \"-1\"]"
   ]
  },
  {
   "cell_type": "markdown",
   "metadata": {},
   "source": [
    "### Cleanup - Location"
   ]
  },
  {
   "cell_type": "code",
   "execution_count": 188,
   "metadata": {},
   "outputs": [],
   "source": [
    "# TODO looks like we don't need to clean this up --> delete this section if so"
   ]
  },
  {
   "cell_type": "markdown",
   "metadata": {},
   "source": [
    "## Answering Questions with Data"
   ]
  },
  {
   "cell_type": "code",
   "execution_count": 189,
   "metadata": {},
   "outputs": [],
   "source": [
    "#TODO : Provide a clear connection between your business questions and how the data answers them."
   ]
  },
  {
   "cell_type": "markdown",
   "metadata": {},
   "source": [
    "### 1. Where are the data science jobs (by city and company)?"
   ]
  },
  {
   "cell_type": "code",
   "execution_count": 190,
   "metadata": {},
   "outputs": [
    {
     "data": {
      "image/png": "[encoded data removed]",
      "text/plain": [
       "<Figure size 720x576 with 1 Axes>"
      ]
     },
     "metadata": {
      "needs_background": "light"
     },
     "output_type": "display_data"
    }
   ],
   "source": [
    "# Data Science Jobs by City\n",
    "plt.figure(figsize = (10,8))\n",
    "location_vals = df['Location'].value_counts().sort_values(ascending=False).head(20)\n",
    "\n",
    "# Create a bar chart showing the top 20 locations with the most job postings\n",
    "location_vals.plot.bar(color = \"teal\", width = 0.8, fontsize=14)\n",
    "\n",
    "# should this be proportion? (location_vals/df.shape[0]) -- proportion of job postings in each city\n",
    "\n",
    "plt.title(\"Top 20 U.S. Cities with the Most Data Science Job Postings\", fontsize=20) \n",
    "plt.xlabel(\"City and State\", fontsize=16)\n",
    "plt.ylabel(\"Number of job postings\", fontsize=16)\n",
    "plt.show()"
   ]
  },
  {
   "cell_type": "code",
   "execution_count": 191,
   "metadata": {
    "scrolled": false
   },
   "outputs": [
    {
     "data": {
      "image/png": "[encoded data removed]",
      "text/plain": [
       "<Figure size 2880x720 with 1 Axes>"
      ]
     },
     "metadata": {},
     "output_type": "display_data"
    }
   ],
   "source": [
    "plt.figure(figsize = (40,10))\n",
    "company_vals = df[\"Company Name\"].value_counts().sort_values(ascending=False).head(15)\n",
    "colors = sns.color_palette('viridis', 15)\n",
    "company_vals.plot.pie(y=\"Company Name\",autopct=\"%0.2f%%\", colors=colors, fontsize=12)\n",
    "\n",
    "plt.title(\"Top 15 Companies by Proportion of Job Postings\", fontsize=20)\n",
    "plt.axis(\"off\")\n",
    "plt.show()"
   ]
  },
  {
   "cell_type": "markdown",
   "metadata": {},
   "source": [
    "### 2. Which sectors offer the most job opportunities for data scientists?"
   ]
  },
  {
   "cell_type": "code",
   "execution_count": 192,
   "metadata": {},
   "outputs": [
    {
     "data": {
      "image/png": "[encoded data removed]",
      "text/plain": [
       "<Figure size 3600x720 with 1 Axes>"
      ]
     },
     "metadata": {},
     "output_type": "display_data"
    }
   ],
   "source": [
    "plt.figure(figsize = (50,10))\n",
    "company_vals = sector_df[\"Sector\"].value_counts().sort_values(ascending=False).head(10)\n",
    "colors = sns.color_palette('viridis', 10)\n",
    "company_vals.plot.pie(y=\"Setor\",autopct=\"%0.2f%%\", colors=colors, fontsize=12)\n",
    "\n",
    "plt.title(\"Top Sectors with Data Science Jobs\", fontsize=20)\n",
    "plt.axis(\"off\")\n",
    "plt.show()"
   ]
  },
  {
   "cell_type": "markdown",
   "metadata": {},
   "source": [
    "### 3. Which cities have the highest salary for data scientists?"
   ]
  },
  {
   "cell_type": "code",
   "execution_count": 193,
   "metadata": {},
   "outputs": [],
   "source": [
    "# Top 10 cities by avg. salary\n",
    "top_salaries_avg = salary_df.groupby('Location')[['Salary Estimate']].mean().sort_values('Salary Estimate', ascending=False)\n"
   ]
  },
  {
   "cell_type": "code",
   "execution_count": 194,
   "metadata": {},
   "outputs": [
    {
     "data": {
      "text/html": [
       "<div>\n",
       "<style scoped>\n",
       "    .dataframe tbody tr th:only-of-type {\n",
       "        vertical-align: middle;\n",
       "    }\n",
       "\n",
       "    .dataframe tbody tr th {\n",
       "        vertical-align: top;\n",
       "    }\n",
       "\n",
       "    .dataframe thead th {\n",
       "        text-align: right;\n",
       "    }\n",
       "</style>\n",
       "<table border=\"1\" class=\"dataframe\">\n",
       "  <thead>\n",
       "    <tr style=\"text-align: right;\">\n",
       "      <th></th>\n",
       "      <th>Salary Estimate</th>\n",
       "    </tr>\n",
       "    <tr>\n",
       "      <th>Location</th>\n",
       "      <th></th>\n",
       "    </tr>\n",
       "  </thead>\n",
       "  <tbody>\n",
       "    <tr>\n",
       "      <th>Rockville Centre, NY</th>\n",
       "      <td>205000.00</td>\n",
       "    </tr>\n",
       "    <tr>\n",
       "      <th>Queens Village, NY</th>\n",
       "      <td>205000.00</td>\n",
       "    </tr>\n",
       "    <tr>\n",
       "      <th>Stanford, CA</th>\n",
       "      <td>193500.00</td>\n",
       "    </tr>\n",
       "    <tr>\n",
       "      <th>Spring, TX</th>\n",
       "      <td>177500.00</td>\n",
       "    </tr>\n",
       "    <tr>\n",
       "      <th>Newark, CA</th>\n",
       "      <td>175700.00</td>\n",
       "    </tr>\n",
       "    <tr>\n",
       "      <th>Los Gatos, CA</th>\n",
       "      <td>171750.00</td>\n",
       "    </tr>\n",
       "    <tr>\n",
       "      <th>Livermore, CA</th>\n",
       "      <td>170125.00</td>\n",
       "    </tr>\n",
       "    <tr>\n",
       "      <th>Duarte, CA</th>\n",
       "      <td>170000.00</td>\n",
       "    </tr>\n",
       "    <tr>\n",
       "      <th>Sherman Oaks, CA</th>\n",
       "      <td>170000.00</td>\n",
       "    </tr>\n",
       "    <tr>\n",
       "      <th>Redwood City, CA</th>\n",
       "      <td>169718.75</td>\n",
       "    </tr>\n",
       "  </tbody>\n",
       "</table>\n",
       "</div>"
      ],
      "text/plain": [
       "                      Salary Estimate\n",
       "Location                             \n",
       "Rockville Centre, NY        205000.00\n",
       "Queens Village, NY          205000.00\n",
       "Stanford, CA                193500.00\n",
       "Spring, TX                  177500.00\n",
       "Newark, CA                  175700.00\n",
       "Los Gatos, CA               171750.00\n",
       "Livermore, CA               170125.00\n",
       "Duarte, CA                  170000.00\n",
       "Sherman Oaks, CA            170000.00\n",
       "Redwood City, CA            169718.75"
      ]
     },
     "execution_count": 194,
     "metadata": {},
     "output_type": "execute_result"
    }
   ],
   "source": [
    "# Top 10 cities by avg. salary\n",
    "\n",
    "top_salaries = salary_df.groupby('Location')[['Salary Estimate']].mean().sort_values('Salary Estimate', ascending=False)\n",
    "\n",
    "top_salaries.head(10)"
   ]
  },
  {
   "cell_type": "code",
   "execution_count": 195,
   "metadata": {},
   "outputs": [
    {
     "name": "stdout",
     "output_type": "stream",
     "text": [
      "There are 464 senior-level job listings.\n"
     ]
    },
    {
     "data": {
      "text/html": [
       "<div>\n",
       "<style scoped>\n",
       "    .dataframe tbody tr th:only-of-type {\n",
       "        vertical-align: middle;\n",
       "    }\n",
       "\n",
       "    .dataframe tbody tr th {\n",
       "        vertical-align: top;\n",
       "    }\n",
       "\n",
       "    .dataframe thead th {\n",
       "        text-align: right;\n",
       "    }\n",
       "</style>\n",
       "<table border=\"1\" class=\"dataframe\">\n",
       "  <thead>\n",
       "    <tr style=\"text-align: right;\">\n",
       "      <th></th>\n",
       "      <th>Salary Estimate</th>\n",
       "    </tr>\n",
       "    <tr>\n",
       "      <th>Location</th>\n",
       "      <th></th>\n",
       "    </tr>\n",
       "  </thead>\n",
       "  <tbody>\n",
       "    <tr>\n",
       "      <th>Queens Village, NY</th>\n",
       "      <td>205000.000000</td>\n",
       "    </tr>\n",
       "    <tr>\n",
       "      <th>Rockville Centre, NY</th>\n",
       "      <td>205000.000000</td>\n",
       "    </tr>\n",
       "    <tr>\n",
       "      <th>Stanford, CA</th>\n",
       "      <td>193500.000000</td>\n",
       "    </tr>\n",
       "    <tr>\n",
       "      <th>Spring, TX</th>\n",
       "      <td>177500.000000</td>\n",
       "    </tr>\n",
       "    <tr>\n",
       "      <th>Newark, CA</th>\n",
       "      <td>176000.000000</td>\n",
       "    </tr>\n",
       "    <tr>\n",
       "      <th>Redwood City, CA</th>\n",
       "      <td>170517.857143</td>\n",
       "    </tr>\n",
       "    <tr>\n",
       "      <th>Livermore, CA</th>\n",
       "      <td>170125.000000</td>\n",
       "    </tr>\n",
       "    <tr>\n",
       "      <th>Duarte, CA</th>\n",
       "      <td>170000.000000</td>\n",
       "    </tr>\n",
       "    <tr>\n",
       "      <th>Sherman Oaks, CA</th>\n",
       "      <td>170000.000000</td>\n",
       "    </tr>\n",
       "    <tr>\n",
       "      <th>Port Washington, NY</th>\n",
       "      <td>169500.000000</td>\n",
       "    </tr>\n",
       "  </tbody>\n",
       "</table>\n",
       "</div>"
      ],
      "text/plain": [
       "                      Salary Estimate\n",
       "Location                             \n",
       "Queens Village, NY      205000.000000\n",
       "Rockville Centre, NY    205000.000000\n",
       "Stanford, CA            193500.000000\n",
       "Spring, TX              177500.000000\n",
       "Newark, CA              176000.000000\n",
       "Redwood City, CA        170517.857143\n",
       "Livermore, CA           170125.000000\n",
       "Duarte, CA              170000.000000\n",
       "Sherman Oaks, CA        170000.000000\n",
       "Port Washington, NY     169500.000000"
      ]
     },
     "execution_count": 195,
     "metadata": {},
     "output_type": "execute_result"
    }
   ],
   "source": [
    "# filter out jobs with \"senior\" in the title\n",
    "non_senior_salary_df = salary_df[~salary_df['Job Title'].str.contains(\"senior\", case=False)]\n",
    "print(f'There are {salary_df.shape[0] - non_senior_salary_df.shape[0]} senior-level job listings.')\n",
    "\n",
    "top_salaries_non_senior = non_senior_salary_df.groupby('Location')[['Salary Estimate']].mean().sort_values('Salary Estimate', ascending=False)\n",
    "top_salaries_non_senior.head(10)"
   ]
  },
  {
   "cell_type": "markdown",
   "metadata": {},
   "source": [
    "As we can see above, we get slightly different results for top-salary jobs when we exclude jobs with \"senior\" in the title. Los Gatos, CA makes the Top 10 list when we are considering all jobs, but not when we exclude senior-level roles. Port Washington, NY is only on the Top 10 list for non-senior jobs. The first list would be useful for data scientists looking to relocate longterm and taking into account career growth, while the second list would be more useful for data scientists looking to maximize salary for a non-senior role."
   ]
  },
  {
   "cell_type": "code",
   "execution_count": 196,
   "metadata": {},
   "outputs": [],
   "source": [
    "# group df by count of data points per location\n",
    "count_df = salary_df.groupby('Location').size()\n",
    "\n",
    "# filter for data points that have at least 3 entries per location\n",
    "filtered_locations = count_df[count_df >= 3]\n",
    "\n",
    "\n",
    "# use filter to generate dataframe for locations with at least 3 entries\n",
    "filtered_salary_df = salary_df[salary_df['Location'].isin(\n",
    "filtered_locations.keys())]"
   ]
  },
  {
   "cell_type": "code",
   "execution_count": 197,
   "metadata": {},
   "outputs": [
    {
     "data": {
      "text/html": [
       "<div>\n",
       "<style scoped>\n",
       "    .dataframe tbody tr th:only-of-type {\n",
       "        vertical-align: middle;\n",
       "    }\n",
       "\n",
       "    .dataframe tbody tr th {\n",
       "        vertical-align: top;\n",
       "    }\n",
       "\n",
       "    .dataframe thead th {\n",
       "        text-align: right;\n",
       "    }\n",
       "</style>\n",
       "<table border=\"1\" class=\"dataframe\">\n",
       "  <thead>\n",
       "    <tr style=\"text-align: right;\">\n",
       "      <th></th>\n",
       "      <th>Job Title</th>\n",
       "      <th>Salary Estimate</th>\n",
       "      <th>Rating</th>\n",
       "      <th>Company Name</th>\n",
       "      <th>Location</th>\n",
       "      <th>Sector</th>\n",
       "    </tr>\n",
       "  </thead>\n",
       "  <tbody>\n",
       "    <tr>\n",
       "      <th>333</th>\n",
       "      <td>Data Scientist</td>\n",
       "      <td>133000</td>\n",
       "      <td>3.9</td>\n",
       "      <td>BlackLine</td>\n",
       "      <td>Woodland Hills, CA</td>\n",
       "      <td>Information Technology</td>\n",
       "    </tr>\n",
       "    <tr>\n",
       "      <th>381</th>\n",
       "      <td>Data Scientist</td>\n",
       "      <td>146500</td>\n",
       "      <td>-1.0</td>\n",
       "      <td>BlackLine Systems</td>\n",
       "      <td>Woodland Hills, CA</td>\n",
       "      <td>-1</td>\n",
       "    </tr>\n",
       "    <tr>\n",
       "      <th>597</th>\n",
       "      <td>Data Engineer</td>\n",
       "      <td>53000</td>\n",
       "      <td>3.9</td>\n",
       "      <td>BlackLine</td>\n",
       "      <td>Woodland Hills, CA</td>\n",
       "      <td>Information Technology</td>\n",
       "    </tr>\n",
       "    <tr>\n",
       "      <th>619</th>\n",
       "      <td>Data Analyst - Health, Senior</td>\n",
       "      <td>56000</td>\n",
       "      <td>4.1</td>\n",
       "      <td>Blue Shield of California</td>\n",
       "      <td>Woodland Hills, CA</td>\n",
       "      <td>Insurance</td>\n",
       "    </tr>\n",
       "    <tr>\n",
       "      <th>629</th>\n",
       "      <td>Senior Data Scientist, Live Ops Analytics</td>\n",
       "      <td>148500</td>\n",
       "      <td>3.6</td>\n",
       "      <td>Activision Blizzard</td>\n",
       "      <td>Woodland Hills, CA</td>\n",
       "      <td>Media</td>\n",
       "    </tr>\n",
       "  </tbody>\n",
       "</table>\n",
       "</div>"
      ],
      "text/plain": [
       "                                     Job Title  Salary Estimate  Rating  \\\n",
       "333                             Data Scientist           133000     3.9   \n",
       "381                             Data Scientist           146500    -1.0   \n",
       "597                              Data Engineer            53000     3.9   \n",
       "619              Data Analyst - Health, Senior            56000     4.1   \n",
       "629  Senior Data Scientist, Live Ops Analytics           148500     3.6   \n",
       "\n",
       "                  Company Name            Location                  Sector  \n",
       "333                  BlackLine  Woodland Hills, CA  Information Technology  \n",
       "381          BlackLine Systems  Woodland Hills, CA                      -1  \n",
       "597                  BlackLine  Woodland Hills, CA  Information Technology  \n",
       "619  Blue Shield of California  Woodland Hills, CA               Insurance  \n",
       "629        Activision Blizzard  Woodland Hills, CA                   Media  "
      ]
     },
     "execution_count": 197,
     "metadata": {},
     "output_type": "execute_result"
    }
   ],
   "source": [
    "salary_df[salary_df.Location ==  'Woodland Hills, CA']"
   ]
  },
  {
   "cell_type": "code",
   "execution_count": 231,
   "metadata": {
    "scrolled": false
   },
   "outputs": [
    {
     "data": {
      "image/png": "[encoded data removed]",
      "text/plain": [
       "<Figure size 1296x720 with 1 Axes>"
      ]
     },
     "metadata": {
      "needs_background": "light"
     },
     "output_type": "display_data"
    }
   ],
   "source": [
    "plt.figure(figsize = (18, 10))\n",
    "\n",
    "grouped = filtered_salary_df.loc[:,['Location', 'Salary Estimate']] \\\n",
    "    .groupby(['Location']) \\\n",
    "    .mean() \\\n",
    "    .sort_values(by='Salary Estimate', ascending=False)[:10]\n",
    "\n",
    "sns.boxplot(x=filtered_salary_df[\"Location\"], y=salary_df[\"Salary Estimate\"], order=grouped.index,  palette='viridis');\n",
    "\n",
    "plt.title(\"Top 10 U.S. Cities with the Highest Data Science Salaries\", fontsize=20) \n",
    "plt.xlabel(\"City and State\", fontsize=18)\n",
    "plt.ylabel(\"Salary Estimate\", fontsize=18)\n",
    "plt.show()"
   ]
  },
  {
   "cell_type": "markdown",
   "metadata": {},
   "source": [
    "### 4. What is the relationship between Glassdoor rating and salary?"
   ]
  },
  {
   "cell_type": "markdown",
   "metadata": {},
   "source": [
    "Glassdoor Rating Explanation for reference:\n",
    "- 0.00 - 1.50 Employees are \"Very Dissatisfied\"\n",
    "- 1.51 - 2.50 Employees are \"Dissatisfied\"\n",
    "- 2.51 - 3.50 Employees say it's \"OK\"\n",
    "- 3.51 - 4.00 Employees are \"Satisfied\"\n",
    "- 4.01 - 5.00 Employees are \"Very Satisfied\""
   ]
  },
  {
   "cell_type": "code",
   "execution_count": 200,
   "metadata": {},
   "outputs": [
    {
     "data": {
      "text/html": [
       "<div>\n",
       "<style scoped>\n",
       "    .dataframe tbody tr th:only-of-type {\n",
       "        vertical-align: middle;\n",
       "    }\n",
       "\n",
       "    .dataframe tbody tr th {\n",
       "        vertical-align: top;\n",
       "    }\n",
       "\n",
       "    .dataframe thead th {\n",
       "        text-align: right;\n",
       "    }\n",
       "</style>\n",
       "<table border=\"1\" class=\"dataframe\">\n",
       "  <thead>\n",
       "    <tr style=\"text-align: right;\">\n",
       "      <th></th>\n",
       "      <th>Job Title</th>\n",
       "      <th>Salary Estimate</th>\n",
       "      <th>Rating</th>\n",
       "      <th>Company Name</th>\n",
       "      <th>Location</th>\n",
       "      <th>Sector</th>\n",
       "    </tr>\n",
       "  </thead>\n",
       "  <tbody>\n",
       "    <tr>\n",
       "      <th>0</th>\n",
       "      <td>Senior Data Scientist</td>\n",
       "      <td>146000</td>\n",
       "      <td>3.5</td>\n",
       "      <td>Hopper</td>\n",
       "      <td>New York, NY</td>\n",
       "      <td>Travel &amp; Tourism</td>\n",
       "    </tr>\n",
       "    <tr>\n",
       "      <th>1</th>\n",
       "      <td>Data Scientist, Product Analytics</td>\n",
       "      <td>146000</td>\n",
       "      <td>4.5</td>\n",
       "      <td>Noom US</td>\n",
       "      <td>New York, NY</td>\n",
       "      <td>Consumer Services</td>\n",
       "    </tr>\n",
       "    <tr>\n",
       "      <th>3</th>\n",
       "      <td>Data Analyst</td>\n",
       "      <td>146000</td>\n",
       "      <td>3.4</td>\n",
       "      <td>Sapphire Digital</td>\n",
       "      <td>Lyndhurst, NJ</td>\n",
       "      <td>Information Technology</td>\n",
       "    </tr>\n",
       "    <tr>\n",
       "      <th>4</th>\n",
       "      <td>Director, Data Science</td>\n",
       "      <td>146000</td>\n",
       "      <td>3.4</td>\n",
       "      <td>United Entertainment Group</td>\n",
       "      <td>New York, NY</td>\n",
       "      <td>Business Services</td>\n",
       "    </tr>\n",
       "    <tr>\n",
       "      <th>5</th>\n",
       "      <td>Data Scientist</td>\n",
       "      <td>146000</td>\n",
       "      <td>2.9</td>\n",
       "      <td>IFG Companies</td>\n",
       "      <td>New York, NY</td>\n",
       "      <td>Insurance</td>\n",
       "    </tr>\n",
       "  </tbody>\n",
       "</table>\n",
       "</div>"
      ],
      "text/plain": [
       "                           Job Title Salary Estimate Rating  \\\n",
       "0              Senior Data Scientist          146000    3.5   \n",
       "1  Data Scientist, Product Analytics          146000    4.5   \n",
       "3                       Data Analyst          146000    3.4   \n",
       "4             Director, Data Science          146000    3.4   \n",
       "5                     Data Scientist          146000    2.9   \n",
       "\n",
       "                 Company Name       Location                  Sector  \n",
       "0                      Hopper   New York, NY        Travel & Tourism  \n",
       "1                     Noom US   New York, NY       Consumer Services  \n",
       "3            Sapphire Digital  Lyndhurst, NJ  Information Technology  \n",
       "4  United Entertainment Group   New York, NY       Business Services  \n",
       "5               IFG Companies   New York, NY               Insurance  "
      ]
     },
     "execution_count": 200,
     "metadata": {},
     "output_type": "execute_result"
    }
   ],
   "source": [
    "rating_df.head()"
   ]
  },
  {
   "cell_type": "code",
   "execution_count": 244,
   "metadata": {},
   "outputs": [
    {
     "data": {
      "image/png": "[encoded data removed]",
      "text/plain": [
       "<Figure size 1296x576 with 1 Axes>"
      ]
     },
     "metadata": {
      "needs_background": "light"
     },
     "output_type": "display_data"
    }
   ],
   "source": [
    "# create bins that correspond to the Glassdoor rating categories (see explanation in cell above)\n",
    "rating_bins = pd.IntervalIndex.from_tuples([(0, 1.5), (1.51, 2.5), (2.51, 3.50), (3.51, 4.0), (4.01, 5.0)])\n",
    "rating_df.copy()['Rating'] = pd.cut(rating_df['Rating'], rating_bins)\n",
    "# create salary bins\n",
    "salary_bins = [50000, 75000, 100000, 125000, 150000, 175000, 200000]\n",
    "rating_df.copy()['Salary'] = pd.cut(rating_df['Salary Estimate'], salary_bins)\n",
    "\n",
    "# use cross tabulation to look at the relationship between salary and company rating\n",
    "CrosstabResult=pd.crosstab(index=rating_df['Rating'],columns=rating_df['Salary'])\n",
    "CrosstabResult.plot.bar(figsize=(18,8), rot=0, width=0.8, \\\n",
    "                        color=['#440154', '#414487', '#2a788e', '#22a884', '#7ad151', '#fde725']);\n",
    "\n",
    "plt.title(\"Cross Tabulation of Salary and Glassdoor Rating\", fontsize=20) \n",
    "plt.xlabel(\"Glassdoor Rating\", fontsize=12)\n",
    "\n",
    "plt.show()"
   ]
  }
 ],
 "metadata": {
  "kernelspec": {
   "display_name": "Python 3 (ipykernel)",
   "language": "python",
   "name": "python3"
  },
  "language_info": {
   "codemirror_mode": {
    "name": "ipython",
    "version": 3
   },
   "file_extension": ".py",
   "mimetype": "text/x-python",
   "name": "python",
   "nbconvert_exporter": "python",
   "pygments_lexer": "ipython3",
   "version": "3.7.11"
  }
 },
 "nbformat": 4,
 "nbformat_minor": 4
}
